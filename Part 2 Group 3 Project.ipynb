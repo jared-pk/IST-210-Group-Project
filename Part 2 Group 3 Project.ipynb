{
 "cells": [
  {
   "cell_type": "markdown",
   "metadata": {},
   "source": [
    "Part 2:\n",
    "\n",
    "Restaurant on the Water This idea is unique as it introduces variables about food such as prep time, price, expiration dates, and other variables not found in standard products. This is a new idea because our customers have to access the drive-through window via boat. Typical business interactions include our suppliers dropping off fresh food from a barge in the mornings. All ingredients will be logged as we receive them and subtracted from the inventory when they are used. After that, we'll prepare the ingredients and open up shop. Customers will then drive up to the window and purchase food. We collect data about the transactions including the time of the transaction, item(s) bought, price, etc. to help us predict what future inventory we need and trends in customer behavior. This will be used to see what dishes are being sold the most, which ones are rarely sold and should be swapped for a new dish. Our goal is to find which dishes are the most popular in order to buy more of the particular ingredients to make more of that dish, as well as find which dishes are the least popular so we can take them off the menu and try different new dishes. Our tables help us visualize the different transactions and allows us to see which dish is purchased more often than the other dishes, the tables would give us the exact number of times each dish is bought. This will also help coordinate sales/deals on the most popular dishes that would encourage customers to come more frequently. For customers that are frequent visitors to the restaurant, a reward card will be offered for them to redeem rewards for purchases and loyalty helping them save money. Each customer will be given a 10 digit ID number and a points account with their name, phone number, address and number of points. The point system would be based off of how much was spent per purchase including tax. These offers may include standard and rotating rewards, an example of a standard reward would be a free side or an upgrade in drink size, rotating may be seasonal drinks of dishes. The Dynamic end-user of this situation is the day to day customers. We don't know who is coming to the restaurant , what they will be buying, or how much they will be buying. All in all, the restaurant on water is a very unique business that requires a different approach to inventory and transaction tracking due to the isolated location of the restaurant. It is important to keep in mind that the backbone of every successful business whether that be a car rental company or a restaurant on water, has an acute and efficient method of database storage to keep track of all their entities. This is especially important for us, when the amount of supplies and inventory shipped to the restaurant each day has to an exact right amount, as we are not on land and will not be able to have much room for error. \n",
    "\n",
    " \n",
    " \n",
    " \n",
    " \n",
    " \n",
    "    Dishes\n",
    "        Name\n",
    "        Price (double > 0)\n",
    "        Ingredients\n",
    "        NumberInStock (int > 0)\n",
    "    Employees\n",
    "        EmployeeID (5 digits)\n",
    "        FirstName \n",
    "        LastName\n",
    "        Address\n",
    "        Phone (10 digits)\n",
    "        Position\n",
    "    Shipments\n",
    "        ShipmentID\t(22 digits)\n",
    "        Items used\n",
    "        Expiration dates\t (MM/DD/YY)\n",
    "        Quantity of items\n",
    "    Transactions\n",
    "        TransactionID (10 digits)\n",
    "        DateTime\n",
    "        CustomerID\t(last name and number)\n",
    "        PaymentType\n",
    "        Reward Discount (double < 100%) \n",
    "    Rewards card\n",
    "        CardID (10 digits)\n",
    "        FirstName\n",
    "        LastName\n",
    "        Phone (10 digits)\n",
    "        Address\n",
    "        Loyalty points\n",
    "    Customers\n",
    "        FirstName\n",
    "        LastName\n",
    "        Phone (10 digits)\n",
    "        Address\n",
    "        Rewards card\n"
    
    
   ]
  }
 ],
 "metadata": {
  "kernelspec": {
   "display_name": "Python 3",
   "language": "python",
   "name": "python3"
  },
  "language_info": {
   "codemirror_mode": {
    "name": "ipython",
    "version": 3
   },
   "file_extension": ".py",
   "mimetype": "text/x-python",
   "name": "python",
   "nbconvert_exporter": "python",
   "pygments_lexer": "ipython3",
   "version": "3.7.3"
  }
 },
 "nbformat": 4,
 "nbformat_minor": 2
}
